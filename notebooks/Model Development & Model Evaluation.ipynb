{
 "cells": [
  {
   "cell_type": "markdown",
   "id": "57a54f91",
   "metadata": {},
   "source": [
    "<center><h1> South German Credit </h1></center"
   ]
  },
  {
   "cell_type": "code",
   "execution_count": 1,
   "id": "c1583b92",
   "metadata": {},
   "outputs": [],
   "source": [
    "import pandas as pd\n",
    "import seaborn as sns\n",
    "import numpy as np\n",
    "\n",
    "from matplotlib import pyplot as plt\n",
    "from sklearn.model_selection import train_test_split, cross_val_score, RepeatedKFold\n",
    "from sklearn.feature_selection import RFE\n",
    "from sklearn.linear_model import LogisticRegression\n",
    "from sklearn.metrics import confusion_matrix, classification_report, roc_auc_score, roc_curve\n",
    "from imblearn.over_sampling import SMOTE"
   ]
  },
  {
   "cell_type": "code",
   "execution_count": 2,
   "id": "597d3a39",
   "metadata": {},
   "outputs": [
    {
     "data": {
      "text/html": [
       "<div>\n",
       "<style scoped>\n",
       "    .dataframe tbody tr th:only-of-type {\n",
       "        vertical-align: middle;\n",
       "    }\n",
       "\n",
       "    .dataframe tbody tr th {\n",
       "        vertical-align: top;\n",
       "    }\n",
       "\n",
       "    .dataframe thead th {\n",
       "        text-align: right;\n",
       "    }\n",
       "</style>\n",
       "<table border=\"1\" class=\"dataframe\">\n",
       "  <thead>\n",
       "    <tr style=\"text-align: right;\">\n",
       "      <th></th>\n",
       "      <th>status</th>\n",
       "      <th>duration</th>\n",
       "      <th>credit_history</th>\n",
       "      <th>purpose</th>\n",
       "      <th>amount</th>\n",
       "      <th>savings</th>\n",
       "      <th>employment_duration</th>\n",
       "      <th>installment_rate</th>\n",
       "      <th>personal_status_sex</th>\n",
       "      <th>other_debtors</th>\n",
       "      <th>...</th>\n",
       "      <th>property</th>\n",
       "      <th>age</th>\n",
       "      <th>other_installment_plans</th>\n",
       "      <th>housing</th>\n",
       "      <th>number_credits</th>\n",
       "      <th>job</th>\n",
       "      <th>people_liable</th>\n",
       "      <th>telephone</th>\n",
       "      <th>foreign_worker</th>\n",
       "      <th>credit_risk</th>\n",
       "    </tr>\n",
       "  </thead>\n",
       "  <tbody>\n",
       "    <tr>\n",
       "      <th>0</th>\n",
       "      <td>1</td>\n",
       "      <td>18</td>\n",
       "      <td>4</td>\n",
       "      <td>2</td>\n",
       "      <td>1049</td>\n",
       "      <td>1</td>\n",
       "      <td>2</td>\n",
       "      <td>4</td>\n",
       "      <td>2</td>\n",
       "      <td>1</td>\n",
       "      <td>...</td>\n",
       "      <td>2</td>\n",
       "      <td>21</td>\n",
       "      <td>3</td>\n",
       "      <td>1</td>\n",
       "      <td>1</td>\n",
       "      <td>3</td>\n",
       "      <td>2</td>\n",
       "      <td>1</td>\n",
       "      <td>2</td>\n",
       "      <td>1</td>\n",
       "    </tr>\n",
       "    <tr>\n",
       "      <th>1</th>\n",
       "      <td>1</td>\n",
       "      <td>9</td>\n",
       "      <td>4</td>\n",
       "      <td>0</td>\n",
       "      <td>2799</td>\n",
       "      <td>1</td>\n",
       "      <td>3</td>\n",
       "      <td>2</td>\n",
       "      <td>3</td>\n",
       "      <td>1</td>\n",
       "      <td>...</td>\n",
       "      <td>1</td>\n",
       "      <td>36</td>\n",
       "      <td>3</td>\n",
       "      <td>1</td>\n",
       "      <td>2</td>\n",
       "      <td>3</td>\n",
       "      <td>1</td>\n",
       "      <td>1</td>\n",
       "      <td>2</td>\n",
       "      <td>1</td>\n",
       "    </tr>\n",
       "    <tr>\n",
       "      <th>2</th>\n",
       "      <td>2</td>\n",
       "      <td>12</td>\n",
       "      <td>2</td>\n",
       "      <td>9</td>\n",
       "      <td>841</td>\n",
       "      <td>2</td>\n",
       "      <td>4</td>\n",
       "      <td>2</td>\n",
       "      <td>2</td>\n",
       "      <td>1</td>\n",
       "      <td>...</td>\n",
       "      <td>1</td>\n",
       "      <td>23</td>\n",
       "      <td>3</td>\n",
       "      <td>1</td>\n",
       "      <td>1</td>\n",
       "      <td>2</td>\n",
       "      <td>2</td>\n",
       "      <td>1</td>\n",
       "      <td>2</td>\n",
       "      <td>1</td>\n",
       "    </tr>\n",
       "    <tr>\n",
       "      <th>3</th>\n",
       "      <td>1</td>\n",
       "      <td>12</td>\n",
       "      <td>4</td>\n",
       "      <td>0</td>\n",
       "      <td>2122</td>\n",
       "      <td>1</td>\n",
       "      <td>3</td>\n",
       "      <td>3</td>\n",
       "      <td>3</td>\n",
       "      <td>1</td>\n",
       "      <td>...</td>\n",
       "      <td>1</td>\n",
       "      <td>39</td>\n",
       "      <td>3</td>\n",
       "      <td>1</td>\n",
       "      <td>2</td>\n",
       "      <td>2</td>\n",
       "      <td>1</td>\n",
       "      <td>1</td>\n",
       "      <td>1</td>\n",
       "      <td>1</td>\n",
       "    </tr>\n",
       "    <tr>\n",
       "      <th>4</th>\n",
       "      <td>1</td>\n",
       "      <td>12</td>\n",
       "      <td>4</td>\n",
       "      <td>0</td>\n",
       "      <td>2171</td>\n",
       "      <td>1</td>\n",
       "      <td>3</td>\n",
       "      <td>4</td>\n",
       "      <td>3</td>\n",
       "      <td>1</td>\n",
       "      <td>...</td>\n",
       "      <td>2</td>\n",
       "      <td>38</td>\n",
       "      <td>1</td>\n",
       "      <td>2</td>\n",
       "      <td>2</td>\n",
       "      <td>2</td>\n",
       "      <td>2</td>\n",
       "      <td>1</td>\n",
       "      <td>1</td>\n",
       "      <td>1</td>\n",
       "    </tr>\n",
       "  </tbody>\n",
       "</table>\n",
       "<p>5 rows × 21 columns</p>\n",
       "</div>"
      ],
      "text/plain": [
       "   status  duration  credit_history  purpose  amount  savings  \\\n",
       "0       1        18               4        2    1049        1   \n",
       "1       1         9               4        0    2799        1   \n",
       "2       2        12               2        9     841        2   \n",
       "3       1        12               4        0    2122        1   \n",
       "4       1        12               4        0    2171        1   \n",
       "\n",
       "   employment_duration  installment_rate  personal_status_sex  other_debtors  \\\n",
       "0                    2                 4                    2              1   \n",
       "1                    3                 2                    3              1   \n",
       "2                    4                 2                    2              1   \n",
       "3                    3                 3                    3              1   \n",
       "4                    3                 4                    3              1   \n",
       "\n",
       "   ...  property  age  other_installment_plans  housing  number_credits  job  \\\n",
       "0  ...         2   21                        3        1               1    3   \n",
       "1  ...         1   36                        3        1               2    3   \n",
       "2  ...         1   23                        3        1               1    2   \n",
       "3  ...         1   39                        3        1               2    2   \n",
       "4  ...         2   38                        1        2               2    2   \n",
       "\n",
       "   people_liable  telephone  foreign_worker  credit_risk  \n",
       "0              2          1               2            1  \n",
       "1              1          1               2            1  \n",
       "2              2          1               2            1  \n",
       "3              1          1               1            1  \n",
       "4              2          1               1            1  \n",
       "\n",
       "[5 rows x 21 columns]"
      ]
     },
     "execution_count": 2,
     "metadata": {},
     "output_type": "execute_result"
    }
   ],
   "source": [
    "data = pd.read_csv('SouthGermanCredit.asc', sep=' ')\n",
    "data.columns = ['status','duration','credit_history','purpose','amount','savings','employment_duration','installment_rate','personal_status_sex','other_debtors','present_residence','property','age','other_installment_plans','housing','number_credits','job','people_liable','telephone','foreign_worker','credit_risk']\n",
    "data.head()"
   ]
  },
  {
   "cell_type": "markdown",
   "id": "244c4a36",
   "metadata": {},
   "source": [
    "## Pre-Processing"
   ]
  },
  {
   "cell_type": "code",
   "execution_count": 4,
   "id": "7039db06",
   "metadata": {},
   "outputs": [
    {
     "name": "stdout",
     "output_type": "stream",
     "text": [
      "486 486\n"
     ]
    }
   ],
   "source": [
    "X = data.iloc[:,:20]\n",
    "y = data['credit_risk']\n",
    "\n",
    "X_train, X_test, y_train, y_test = train_test_split(X,y,test_size=0.3,random_state=3)\n",
    "\n",
    "over_sample = SMOTE(random_state=2)\n",
    "attributes = X_train.columns\n",
    "smote_X, smote_y = over_sample.fit_resample(X_train, y_train)\n",
    "\n",
    "smote_x = pd.DataFrame(data=smote_X, columns=attributes)\n",
    "smote_y = pd.DataFrame(data=smote_y, columns=['credit_risk'])\n",
    "\n",
    "print(len(smote_y[smote_y['credit_risk']==0]),len(smote_y[smote_y['credit_risk']==1]))"
   ]
  },
  {
   "cell_type": "markdown",
   "id": "1bb49927",
   "metadata": {},
   "source": [
    "# Model Development"
   ]
  },
  {
   "cell_type": "markdown",
   "id": "48195299",
   "metadata": {},
   "source": [
    "## Building the model"
   ]
  },
  {
   "cell_type": "markdown",
   "id": "f01a7dcd",
   "metadata": {},
   "source": [
    "With the issue of imbalanced classes addressed using SMOTE, our next step involves Recursive Feature Elimination (RFE) to select independent variables based on their impact on the logistic regression model with Credit Risk as the target variable.\n",
    "\n",
    "However, it's important to note that even with this feature selection technique, we anticipate that the resulting variables may not necessarily lead to a highly predictive model. This expectation is driven by our earlier observation, which revealed the lack of statistically significant correlations between the independent variables and the target variable.\n",
    "\n",
    "Having completed the RFE procedure and identified the variables with the most substantial impact, we can now proceed to build our logistic regression model. Subsequently, we present a set of evaluation metrics and their respective values for the model we have constructed.\n",
    "\n",
    "To begin, we have constructed the Confusion Matrix, which allows us to categorize our predictions as follows:\n",
    "\n",
    "- Correctly classified 227 observations.\n",
    "- Incorrectly classified 65 observations.\n",
    "\n",
    "This matrix provides insights into the model's performance, particularly its ability to correctly predict the class labels, while highlighting areas where improvements may be necessary."
   ]
  },
  {
   "cell_type": "code",
   "execution_count": 5,
   "id": "a73f1646",
   "metadata": {},
   "outputs": [],
   "source": [
    "features = data.columns.values.tolist()\n",
    "y = ['credit_risk']\n",
    "X = [i for i in features if i not in y]\n",
    "\n",
    "model_log = LogisticRegression(max_iter=10000)\n",
    "model_rfe = RFE(model_log, step=2)\n",
    "\n",
    "model_rfe.fit(smote_x, smote_y.values.ravel())\n",
    "smote_x.drop(smote_x.columns[np.where(model_rfe.support_==False)[0]], axis=1, inplace=True)"
   ]
  },
  {
   "cell_type": "code",
   "execution_count": 6,
   "id": "371276f1",
   "metadata": {},
   "outputs": [],
   "source": [
    "X=smote_x\n",
    "y=smote_y['credit_risk']\n",
    "\n",
    "X_train, X_test, y_train, y_test = train_test_split(X, y, test_size=0.3, random_state=5)\n",
    "model_log = LogisticRegression(max_iter=10000)\n",
    "model_log.fit(X_train, y_train)\n",
    "y_pred = model_log.predict(X_test)"
   ]
  },
  {
   "cell_type": "code",
   "execution_count": 7,
   "id": "ac72fc6f",
   "metadata": {},
   "outputs": [
    {
     "data": {
      "image/png": "[encoded data removed]",
      "text/plain": [
       "<Figure size 720x720 with 2 Axes>"
      ]
     },
     "metadata": {
      "needs_background": "light"
     },
     "output_type": "display_data"
    }
   ],
   "source": [
    "cnfs_mat = confusion_matrix(y_test,y_pred)\n",
    "\n",
    "plt.rcParams[\"figure.figsize\"]=(10,10)\n",
    "sns.heatmap(cnfs_mat, annot=True, fmt=\"g\", annot_kws={'size': 30})\n",
    "plt.title('Confusion Matrix', fontsize=30, y=1.05, weight='bold')\n",
    "plt.xlabel('Predicted Class', fontsize=26)\n",
    "plt.ylabel('Actual Class', fontsize=26)\n",
    "plt.xticks(size=20)\n",
    "plt.yticks(size=20)\n",
    "plt.tight_layout()"
   ]
  },
  {
   "cell_type": "markdown",
   "id": "e85207e2",
   "metadata": {},
   "source": [
    "# Model Evaluation"
   ]
  },
  {
   "cell_type": "markdown",
   "id": "7a7e1197",
   "metadata": {},
   "source": [
    "Following the Confusion Matrix, we provide a table displaying various model evaluation metrics, including precision, recall, f1-score, and support, as detailed below:"
   ]
  },
  {
   "cell_type": "code",
   "execution_count": 8,
   "id": "ae55ccd0",
   "metadata": {},
   "outputs": [
    {
     "name": "stdout",
     "output_type": "stream",
     "text": [
      "              precision    recall  f1-score   support\n",
      "\n",
      "           0       0.80      0.76      0.78       151\n",
      "           1       0.76      0.79      0.78       141\n",
      "\n",
      "    accuracy                           0.78       292\n",
      "   macro avg       0.78      0.78      0.78       292\n",
      "weighted avg       0.78      0.78      0.78       292\n",
      "\n"
     ]
    }
   ],
   "source": [
    "print(classification_report(y_test,y_pred))"
   ]
  },
  {
   "cell_type": "code",
   "execution_count": 9,
   "id": "c5db1daf",
   "metadata": {},
   "outputs": [
    {
     "data": {
      "text/plain": [
       "0.7779578225541308"
      ]
     },
     "execution_count": 9,
     "metadata": {},
     "output_type": "execute_result"
    }
   ],
   "source": [
    "model_roc_auc = roc_auc_score(y_test, model_log.predict(X_test))\n",
    "model_roc_auc"
   ]
  },
  {
   "cell_type": "markdown",
   "id": "d34cd21d",
   "metadata": {},
   "source": [
    "Additionally, we calculated the Area Under the Curve (AUC) for the ROC curve, and the resulting value is approximately 0.77. We have also created a graphical representation of the ROC curve."
   ]
  },
  {
   "cell_type": "code",
   "execution_count": 10,
   "id": "6c56f25a",
   "metadata": {},
   "outputs": [
    {
     "data": {
      "image/png": "[encoded data removed]",
      "text/plain": [
       "<Figure size 720x720 with 1 Axes>"
      ]
     },
     "metadata": {
      "needs_background": "light"
     },
     "output_type": "display_data"
    }
   ],
   "source": [
    "fp_rate, tp_rate, lim = roc_curve(y_test, model_log.predict_proba(X_test)[:,1])\n",
    "\n",
    "plt.rcParams[\"figure.figsize\"]=(10,10)\n",
    "plt.plot(fp_rate,tp_rate, label='area = %0.2f'% model_roc_auc)\n",
    "plt.plot([0,1],[0,1], 'r--')\n",
    "plt.xlim([0.0,1.0])\n",
    "plt.ylim([0.0,1.05])\n",
    "plt.xlabel('False Positive Rate', fontsize=26)\n",
    "plt.ylabel('True Positive Rate', fontsize=26)\n",
    "plt.title('ROC Curve', fontsize=30, y=1.05, weight='bold')\n",
    "plt.xticks(size=20)\n",
    "plt.yticks(size=20)\n",
    "plt.show()"
   ]
  },
  {
   "cell_type": "markdown",
   "id": "d2a9ca4a",
   "metadata": {},
   "source": [
    "For a comprehensive model evaluation, we conducted Repeated K-Fold Cross-Validation and estimated key metrics, including accuracy, precision, recall, and F1-score, with the following results:"
   ]
  },
  {
   "cell_type": "code",
   "execution_count": 11,
   "id": "ee023f10",
   "metadata": {},
   "outputs": [
    {
     "name": "stdout",
     "output_type": "stream",
     "text": [
      "Accuracy: mean: 0.752 std: 0.040\n"
     ]
    }
   ],
   "source": [
    "cross_val = RepeatedKFold(n_splits=10, n_repeats=10, random_state=1)\n",
    "scores = cross_val_score(model_log, X, y, scoring='accuracy', cv=cross_val, n_jobs=-1)\n",
    "print('Accuracy: mean: %.3f std: %.3f' % (np.mean(scores), np.std(scores)))"
   ]
  },
  {
   "cell_type": "code",
   "execution_count": 12,
   "id": "24b7de50",
   "metadata": {
    "scrolled": false
   },
   "outputs": [
    {
     "name": "stdout",
     "output_type": "stream",
     "text": [
      "Achieved mean accuracy of 0.7518 with std of 0.0401.\n",
      "Achieved mean precision of 0.7609 with std of 0.0590.\n",
      "Achieved mean recall of 0.7362 with std of 0.0594.\n",
      "Achieved mean f1-score of 0.7463 with std of 0.0450.\n"
     ]
    }
   ],
   "source": [
    "cross_val = RepeatedKFold(n_splits=10, n_repeats=10, random_state=1)\n",
    "scores_accuracy = cross_val_score(model_log, X, y, scoring = 'accuracy', cv=cross_val, n_jobs=-1)\n",
    "scores_precision = cross_val_score(model_log, X, y, scoring = 'precision', cv=cross_val, n_jobs=-1)\n",
    "scores_recall = cross_val_score(model_log, X, y, scoring = 'recall', cv=cross_val, n_jobs=-1)\n",
    "scores_f1_score = cross_val_score(model_log, X, y, scoring = 'f1', cv=cross_val, n_jobs=-1)\n",
    "print(f\"Achieved mean accuracy of {np.mean(scores_accuracy):.4f} with std of {np.std(scores_accuracy):.4f}.\")\n",
    "print(f\"Achieved mean precision of {np.mean(scores_precision):.4f} with std of {np.std(scores_precision):.4f}.\")\n",
    "print(f\"Achieved mean recall of {np.mean(scores_recall):.4f} with std of {np.std(scores_recall):.4f}.\")\n",
    "print(f\"Achieved mean f1-score of {np.mean(scores_f1_score):.4f} with std of {np.std(scores_f1_score):.4f}.\")"
   ]
  },
  {
   "cell_type": "markdown",
   "id": "86a33fcb",
   "metadata": {},
   "source": [
    "The model accurately classifies approximately 75.18% of the observations with a precision rate of 76.09%."
   ]
  }
 ],
 "metadata": {
  "kernelspec": {
   "display_name": "Python 3 (ipykernel)",
   "language": "python",
   "name": "python3"
  },
  "language_info": {
   "codemirror_mode": {
    "name": "ipython",
    "version": 3
   },
   "file_extension": ".py",
   "mimetype": "text/x-python",
   "name": "python",
   "nbconvert_exporter": "python",
   "pygments_lexer": "ipython3",
   "version": "3.9.7"
  }
 },
 "nbformat": 4,
 "nbformat_minor": 5
}
